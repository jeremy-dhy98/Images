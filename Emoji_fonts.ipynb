{
 "cells": [
  {
   "cell_type": "code",
   "execution_count": 3,
   "id": "74e75727-5e46-4ad8-8c4a-1c58f34420f8",
   "metadata": {},
   "outputs": [
    {
     "name": "stdout",
     "output_type": "stream",
     "text": [
      "Emoji image saved as 'emoji_test_image.png\n"
     ]
    }
   ],
   "source": [
    "import os\n",
    "import requests \n",
    "import emoji\n",
    "from pathlib import Path\n",
    "from PIL import Image, ImageDraw, ImageFont\n",
    "\n",
    "#  Create a directory to store the font\n",
    "font_dir = \"fonts\"\n",
    "os.makedirs(font_dir, exist_ok=True)\n",
    "font_path = Path(font_dir, \"NotoEmoji[wght].ttf\")\n",
    "font_path2 = r\"C:\\Windows\\Fonts\\seguiemj.ttf\" \n",
    "\n",
    "# #  Download the Noto Emoji font if it doesn't already exist\n",
    "# def download_font():\n",
    "#     if not os.path.exists(font_path):\n",
    "#         print(\"Downloading Noto Emoji font...\")\n",
    "#         url = \"https://github.com/google/fonts/blob/main/ofl/notoemoji/NotoEmoji%5Bwght%5D.ttf\"\n",
    "#         response = requests.get(url)\n",
    "#         if response.status_code == 200:\n",
    "#             with open(font_path, \"wb+\") as font_file:\n",
    "#                 font_file.write(response.content)\n",
    "#                 print(\"Font downloaded successfully.\")\n",
    "#         else:\n",
    "#             raise Exception(f\"Failed to download font. HTTP Status: {response.status_code}\")\n",
    "#     else:\n",
    "#         print(\"Font already exists.\")\n",
    "\n",
    "#  Test the font by creating an image with emojis\n",
    "def create_image_with_emoji():\n",
    "    width, height = 550, 500\n",
    "    background_color = (0, 0, 0)\n",
    "    text_color = (255, 255, 255)\n",
    "\n",
    "    # Create a blank image\n",
    "    img = Image.new(\"RGB\", (width, height), color=background_color)\n",
    "    draw = ImageDraw.Draw(img)\n",
    "\n",
    "    # Load the font\n",
    "    font = ImageFont.truetype(str(font_path2), size=40)\n",
    "\n",
    "    # Text with emojis\n",
    "    text = emoji.emojize(\"🎉 Welcome to Python! 🚀\\n✨ Emojis supported! 😍\")\n",
    "\n",
    "    # Calculate text size using textbbox\n",
    "    text_bbox = draw.textbbox((0, 0), text, font=font)\n",
    "    text_width = text_bbox[2] - text_bbox[0]\n",
    "    text_height = text_bbox[3] - text_bbox[1]\n",
    "\n",
    "    # Calculate the center position\n",
    "    x = (width - text_width) / 2\n",
    "    y = (height - text_height) / 2\n",
    "    draw.multiline_text((x, y), text, font=font, fill=text_color, align=\"center\")\n",
    "\n",
    "    # Save and show the image\n",
    "    img.save(\"emoji_test_image.png\")\n",
    "    # img.show()\n",
    "    print(\"Emoji image saved as 'emoji_test_image.png\")\n",
    "\n",
    "# Step 4: Execute the steps\n",
    "# download_font()\n",
    "create_image_with_emoji()\n"
   ]
  }
 ],
 "metadata": {
  "kernelspec": {
   "display_name": "PILW",
   "language": "python",
   "name": "pilw"
  },
  "language_info": {
   "codemirror_mode": {
    "name": "ipython",
    "version": 3
   },
   "file_extension": ".py",
   "mimetype": "text/x-python",
   "name": "python",
   "nbconvert_exporter": "python",
   "pygments_lexer": "ipython3",
   "version": "3.12.7"
  }
 },
 "nbformat": 4,
 "nbformat_minor": 5
}
